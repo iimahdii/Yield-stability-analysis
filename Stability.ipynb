{
  "nbformat": 4,
  "nbformat_minor": 0,
  "metadata": {
    "colab": {
      "provenance": []
    },
    "kernelspec": {
      "name": "python3",
      "display_name": "Python 3"
    },
    "language_info": {
      "name": "python"
    }
  },
  "cells": [
    {
      "cell_type": "code",
      "execution_count": 1,
      "metadata": {
        "colab": {
          "base_uri": "https://localhost:8080/"
        },
        "id": "ykv84oa7Fjcz",
        "outputId": "2c954805-e1bb-42e1-b5a6-4eb9e2cdeb60"
      },
      "outputs": [
        {
          "output_type": "stream",
          "name": "stdout",
          "text": [
            "Mounted at /content/drive\n"
          ]
        }
      ],
      "source": [
        "from google.colab import drive\n",
        "drive.mount('/content/drive')\n"
      ]
    },
    {
      "cell_type": "code",
      "source": [
        "import os.path\n",
        "import numpy as  np"
      ],
      "metadata": {
        "id": "JjJeYQQBFpXV"
      },
      "execution_count": 3,
      "outputs": []
    },
    {
      "cell_type": "code",
      "source": [
        "from pathlib import Path\n",
        "input = Path (\"/content/drive/MyDrive/dataset/histograms/histogram_veg.npz\")\n",
        "a = np.load(input)\n",
        "for k in a.files:\n",
        "    print (k)"
      ],
      "metadata": {
        "colab": {
          "base_uri": "https://localhost:8080/"
        },
        "id": "X0ePgu7CFvlk",
        "outputId": "6a0886c5-b431-45d2-fe68-2df7be64ceed"
      },
      "execution_count": 4,
      "outputs": [
        {
          "output_type": "stream",
          "name": "stdout",
          "text": [
            "output_image\n",
            "output_yield\n",
            "output_year\n",
            "output_locations\n",
            "output_index\n"
          ]
        }
      ]
    },
    {
      "cell_type": "code",
      "source": [
        "# load data to memory\n",
        "content   = np.load(input)\n",
        "images    = content['output_image']\n",
        "yields    = content['output_yield']\n",
        "years     = content['output_year']\n",
        "locations = content['output_locations']\n",
        "indices   = content['output_index']"
      ],
      "metadata": {
        "id": "lr-qZvU1Fvyl"
      },
      "execution_count": 5,
      "outputs": []
    },
    {
      "cell_type": "markdown",
      "source": [
        "#NDVI Calculation"
      ],
      "metadata": {
        "id": "_spr7T-bF8nt"
      }
    },
    {
      "cell_type": "code",
      "source": [
        "image_NDVI = np.zeros([images.shape[0],32,32])\n",
        "for i in range(images.shape[0]):\n",
        "  image_NDVI[i,:,:] = (images[i,4,:,:]-images[i,5,:,:])/(images[i,4,:,:]+images[i,5,:,:]+ np.finfo(float).eps)"
      ],
      "metadata": {
        "id": "KTjXIDOgF4sF"
      },
      "execution_count": 6,
      "outputs": []
    },
    {
      "cell_type": "markdown",
      "source": [
        "#Stability Calculation"
      ],
      "metadata": {
        "id": "J6cyPKTVGF0-"
      }
    },
    {
      "cell_type": "code",
      "source": [
        "import numpy as np\n",
        "def calculate_ndvi_bar(ndvi_data):\n",
        "    \"\"\"Calculate average NDVI for each year for jth polygon.\"\"\"\n",
        "    return np.mean(ndvi_data, axis=2)\n",
        "def calculate_rndvi_and_snndvi(ndvi_data, ndvi_bar):\n",
        "    \"\"\"Calculate rNDVI and snNDVI for each pixel.\"\"\"\n",
        "    rNDVI = ndvi_data - ndvi_bar[:,:,np.newaxis]\n",
        "    snNDVI = np.where(ndvi_data >= ndvi_bar[:,:,np.newaxis], 1, 0)\n",
        "    return rNDVI, snNDVI\n",
        "\n",
        "def calculate_snndvi_bar(snNDVI_data):\n",
        "    \"\"\"Calculate average snNDVI over years for each pixel.\"\"\"\n",
        "    return np.mean(snNDVI_data, axis=0)\n",
        "\n",
        "def calculate_tnndvi(snNDVI_data, snNDVI_bar):\n",
        "    \"\"\"Calculate tnNDVI for each pixel.\"\"\"\n",
        "    diff = snNDVI_data - snNDVI_bar\n",
        "    return np.sqrt(np.mean(diff**2, axis=0))\n",
        "\n",
        "def classify_stability(ndvi_data, ndvi_bar, tnNDVI):\n",
        "    \"\"\"Classify each pixel into stability classes.\"\"\"\n",
        "    conditions = [\n",
        "        (ndvi_data >= ndvi_bar[:,:,np.newaxis]) & (tnNDVI < 0.15),\n",
        "        (ndvi_data <= ndvi_bar[:,:,np.newaxis]) & (tnNDVI > 0.15),\n",
        "        (tnNDVI >= 0.15)\n",
        "    ]\n",
        "    choices = [\"SH\", \"SL\", \"U\"]\n",
        "    return np.select(conditions, choices)\n",
        "\n",
        "# Input data (as an example)\n",
        "# Assuming ndvi_data shape is (years, polygons, pixels)\n",
        "# For this example, I'm creating random NDVI values for 8 years, 5 polygons, and 100 pixels.\n",
        "ndvi_data = image_NDVI\n",
        "\n",
        "# Step 1: Calculate NDVI bar\n",
        "ndvi_bar = calculate_ndvi_bar(image_NDVI)\n",
        "\n",
        "# Step 2: Calculate rNDVI and snNDVI\n",
        "rNDVI, snNDVI = calculate_rndvi_and_snndvi(image_NDVI, ndvi_bar)\n",
        "\n",
        "# Step 3: Calculate snNDVI bar and tnNDVI\n",
        "snNDVI_bar = calculate_snndvi_bar(snNDVI)\n",
        "tnNDVI = calculate_tnndvi(snNDVI, snNDVI_bar)\n",
        "\n",
        "# Step 4: Classify stability\n",
        "stability = classify_stability(image_NDVI, ndvi_bar, tnNDVI)\n",
        "\n",
        "print(stability)"
      ],
      "metadata": {
        "colab": {
          "base_uri": "https://localhost:8080/"
        },
        "id": "b0vEaNsyGBcQ",
        "outputId": "8d58bef8-6ac5-424f-b8f5-809b7bc8b9ca"
      },
      "execution_count": 7,
      "outputs": [
        {
          "output_type": "stream",
          "name": "stdout",
          "text": [
            "[[['SL' 'SL' 'SL' ... 'SL' 'SL' 'SL']\n",
            "  ['U' 'U' 'U' ... 'U' 'U' 'U']\n",
            "  ['SL' 'SL' 'SL' ... 'SL' 'SL' 'SL']\n",
            "  ...\n",
            "  ['U' 'U' 'U' ... 'U' 'U' 'U']\n",
            "  ['U' 'U' 'U' ... 'U' 'U' 'U']\n",
            "  ['U' 'U' 'U' ... 'U' 'U' 'U']]\n",
            "\n",
            " [['SL' 'SL' 'SL' ... 'U' 'U' 'SL']\n",
            "  ['SL' 'SL' 'SL' ... 'SL' 'SL' 'SL']\n",
            "  ['SL' 'SL' 'SL' ... 'SL' 'SL' 'SL']\n",
            "  ...\n",
            "  ['U' 'U' 'U' ... 'U' 'U' 'U']\n",
            "  ['U' 'U' 'U' ... 'U' 'U' 'U']\n",
            "  ['U' 'U' 'U' ... 'U' 'U' 'U']]\n",
            "\n",
            " [['SL' 'SL' 'SL' ... 'SL' 'SL' 'SL']\n",
            "  ['SL' 'SL' 'SL' ... 'SL' 'SL' 'SL']\n",
            "  ['SL' 'SL' 'SL' ... 'SL' 'SL' 'SL']\n",
            "  ...\n",
            "  ['SL' 'SL' 'SL' ... 'SL' 'SL' 'SL']\n",
            "  ['U' 'U' 'U' ... 'U' 'U' 'U']\n",
            "  ['SL' 'SL' 'SL' ... 'SL' 'SL' 'SL']]\n",
            "\n",
            " ...\n",
            "\n",
            " [['SL' 'SL' 'SL' ... 'U' 'U' 'SL']\n",
            "  ['SL' 'SL' 'SL' ... 'U' 'U' 'U']\n",
            "  ['SL' 'SL' 'SL' ... 'U' 'U' 'U']\n",
            "  ...\n",
            "  ['U' 'U' 'U' ... 'U' 'U' 'U']\n",
            "  ['U' 'U' 'U' ... 'U' 'U' 'U']\n",
            "  ['U' 'U' 'U' ... 'U' 'U' 'U']]\n",
            "\n",
            " [['SL' 'SL' 'SL' ... 'U' 'U' 'SL']\n",
            "  ['SL' 'SL' 'SL' ... 'U' 'U' 'U']\n",
            "  ['SL' 'SL' 'SL' ... 'U' 'U' 'U']\n",
            "  ...\n",
            "  ['SL' 'SL' 'SL' ... 'U' 'SL' 'U']\n",
            "  ['U' 'U' 'U' ... 'U' 'U' 'U']\n",
            "  ['U' 'U' 'U' ... 'U' 'U' 'U']]\n",
            "\n",
            " [['U' 'U' 'SL' ... 'U' 'U' 'SL']\n",
            "  ['U' 'U' 'U' ... 'U' 'U' 'U']\n",
            "  ['SL' 'SL' 'SL' ... 'U' 'U' 'U']\n",
            "  ...\n",
            "  ['SL' 'SL' 'SL' ... 'SL' 'SL' 'SL']\n",
            "  ['SL' 'SL' 'SL' ... 'U' 'SL' 'SL']\n",
            "  ['U' 'U' 'U' ... 'U' 'U' 'SL']]]\n"
          ]
        }
      ]
    }
  ]
}